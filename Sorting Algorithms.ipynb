{
 "cells": [
  {
   "cell_type": "markdown",
   "id": "9ee780f9",
   "metadata": {},
   "source": [
    "# Popular Sorting Algorithms"
   ]
  },
  {
   "cell_type": "code",
   "execution_count": 1,
   "id": "f2a72153",
   "metadata": {},
   "outputs": [],
   "source": [
    "arr = [5,4,3,2,1]"
   ]
  },
  {
   "cell_type": "markdown",
   "id": "d9911348",
   "metadata": {},
   "source": [
    "## Bubble Sort"
   ]
  },
  {
   "cell_type": "code",
   "execution_count": 2,
   "id": "8aa4fb44",
   "metadata": {},
   "outputs": [],
   "source": [
    "def bubble_sort(arr):\n",
    "    N = len(arr)\n",
    "    for i in range(N):\n",
    "        for j in range(N-i-1):\n",
    "            if arr[j]>arr[j+1]:\n",
    "                arr[j], arr[j+1] = arr[j+1], arr[j]\n",
    "    return arr"
   ]
  },
  {
   "cell_type": "code",
   "execution_count": 3,
   "id": "11c5fed6",
   "metadata": {},
   "outputs": [
    {
     "data": {
      "text/plain": [
       "[1, 2, 3, 4, 5]"
      ]
     },
     "execution_count": 3,
     "metadata": {},
     "output_type": "execute_result"
    }
   ],
   "source": [
    "bubble_sort(arr)"
   ]
  },
  {
   "cell_type": "markdown",
   "id": "f731b4b0",
   "metadata": {},
   "source": [
    "- Time Complexity O(n^2)\n",
    "- Space Complexity O(1)"
   ]
  },
  {
   "cell_type": "markdown",
   "id": "9395bf6b",
   "metadata": {},
   "source": [
    "## Insertion Sort"
   ]
  },
  {
   "cell_type": "code",
   "execution_count": 4,
   "id": "cdd2e26c",
   "metadata": {},
   "outputs": [],
   "source": [
    "def insertion_sort(arr):\n",
    "    for i in range(1, len(arr)):        \n",
    "        key = arr[i]\n",
    "        j = i-1\n",
    "        while j >= 0 and arr[j] > key:\n",
    "            arr[j + 1] = arr[j]\n",
    "            j -= 1\n",
    "        arr[j + 1] = key\n",
    "    return arr"
   ]
  },
  {
   "cell_type": "code",
   "execution_count": 5,
   "id": "df52a283",
   "metadata": {},
   "outputs": [
    {
     "data": {
      "text/plain": [
       "[1, 2, 3, 4, 5]"
      ]
     },
     "execution_count": 5,
     "metadata": {},
     "output_type": "execute_result"
    }
   ],
   "source": [
    "insertion_sort(arr)"
   ]
  },
  {
   "cell_type": "markdown",
   "id": "29af85f1",
   "metadata": {},
   "source": [
    "- Time Complexity  O(n^2)\n",
    "- Space Complexity O(1)"
   ]
  },
  {
   "cell_type": "markdown",
   "id": "8435022e",
   "metadata": {},
   "source": [
    "## Selection Sort"
   ]
  },
  {
   "cell_type": "code",
   "execution_count": 6,
   "id": "ea30ea1b",
   "metadata": {},
   "outputs": [],
   "source": [
    "def selection_sort(arr):\n",
    "    for i in range(len(arr)-1):\n",
    "        min_idx = i\n",
    "        for j in range(i+1, len(arr)):\n",
    "            if arr[min_idx] > arr[j]:\n",
    "                min_idx = j\n",
    "\n",
    "        arr[i],arr[min_idx] = arr[min_idx],arr[i]\n",
    "    return arr"
   ]
  },
  {
   "cell_type": "code",
   "execution_count": 7,
   "id": "9cd93064",
   "metadata": {},
   "outputs": [
    {
     "data": {
      "text/plain": [
       "[1, 2, 3, 4, 5]"
      ]
     },
     "execution_count": 7,
     "metadata": {},
     "output_type": "execute_result"
    }
   ],
   "source": [
    "selection_sort(arr)"
   ]
  },
  {
   "cell_type": "markdown",
   "id": "84f0ccc9",
   "metadata": {},
   "source": [
    "- Time Complexity  O(n^2)\n",
    "- Space Complexity O(1)"
   ]
  },
  {
   "cell_type": "markdown",
   "id": "cce4d50d",
   "metadata": {},
   "source": [
    "## Merge Sort"
   ]
  },
  {
   "cell_type": "code",
   "execution_count": 8,
   "id": "11457d70",
   "metadata": {},
   "outputs": [],
   "source": [
    "def merge_sort(arr):\n",
    "    if len(arr)<=1:\n",
    "        return arr\n",
    "    \n",
    "    mid = len(arr)//2\n",
    "    left = merge_sort(arr[:mid])\n",
    "    right = merge_sort(arr[mid:])\n",
    "    \n",
    "    return combine(left,right)\n",
    "\n",
    "def combine(left,right):\n",
    "    \n",
    "    M,N = len(left),len(right)\n",
    "    i=j=0\n",
    "    result = []\n",
    "    while i<M and j<N:\n",
    "        \n",
    "        if left[i]>right[j]:\n",
    "            result.append(right[j])\n",
    "            j+=1\n",
    "        else:\n",
    "            result.append(left[i])\n",
    "            i+=1\n",
    "            \n",
    "    while i<M:\n",
    "        result.append(left[j])\n",
    "        i+=1\n",
    "        \n",
    "    while j<N:\n",
    "        result.append(right[j])\n",
    "        j+=1\n",
    "    \n",
    "    return result"
   ]
  },
  {
   "cell_type": "code",
   "execution_count": 9,
   "id": "19c27111",
   "metadata": {},
   "outputs": [
    {
     "data": {
      "text/plain": [
       "[1, 2, 3, 4, 5]"
      ]
     },
     "execution_count": 9,
     "metadata": {},
     "output_type": "execute_result"
    }
   ],
   "source": [
    "merge_sort(arr)"
   ]
  },
  {
   "cell_type": "markdown",
   "id": "455c48ea",
   "metadata": {},
   "source": [
    "- Time Complexity  O ( n ^ log( n ) )\n",
    "- Space Complexity O ( n )"
   ]
  },
  {
   "cell_type": "markdown",
   "id": "1873eeb9",
   "metadata": {},
   "source": [
    "## Quick Sort"
   ]
  },
  {
   "cell_type": "code",
   "execution_count": 10,
   "id": "2dc5ea0a",
   "metadata": {},
   "outputs": [],
   "source": [
    "def quick_sort(arr,low=0,high=len(arr)-1):\n",
    "    if low < high:\n",
    "        pivot = partition(arr, low, high)\n",
    "        quick_sort(arr, low, pivot - 1)\n",
    "        quick_sort(arr, pivot + 1, high)\n",
    "    return arr\n",
    "        \n",
    "def partition(arr, low, high):\n",
    "    pivot = arr[high]\n",
    "    i = low\n",
    "    #print(\"Array\", arr)\n",
    "    #print(\"Pivot\", pivot)\n",
    "    for j in range(low, high+1):\n",
    "        if arr[j] < pivot:\n",
    "            #print(f\"Swapping {arr[i]} , {arr[j]}\")\n",
    "            arr[i], arr[j] = arr[j], arr[i]\n",
    "            i += 1\n",
    "            #print(f\"Array After Swap {arr}\")\n",
    "    arr[i], arr[high] = arr[high], arr[i]\n",
    "    return i"
   ]
  },
  {
   "cell_type": "code",
   "execution_count": 12,
   "id": "0708ce21",
   "metadata": {},
   "outputs": [
    {
     "data": {
      "text/plain": [
       "[1, 2, 3, 4, 5]"
      ]
     },
     "execution_count": 12,
     "metadata": {},
     "output_type": "execute_result"
    }
   ],
   "source": [
    "quick_sort(arr)"
   ]
  },
  {
   "cell_type": "markdown",
   "id": "a266f667",
   "metadata": {},
   "source": [
    "- Time Complexity  Wost Case O(n^2) Average Case O(n^log(n))\n",
    "- Space Complexity O(log(n))"
   ]
  }
 ],
 "metadata": {
  "kernelspec": {
   "display_name": "Python 3",
   "language": "python",
   "name": "python3"
  },
  "language_info": {
   "codemirror_mode": {
    "name": "ipython",
    "version": 3
   },
   "file_extension": ".py",
   "mimetype": "text/x-python",
   "name": "python",
   "nbconvert_exporter": "python",
   "pygments_lexer": "ipython3",
   "version": "3.9.6"
  }
 },
 "nbformat": 4,
 "nbformat_minor": 5
}
