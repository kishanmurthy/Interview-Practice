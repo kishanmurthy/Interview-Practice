{
 "cells": [
  {
   "cell_type": "code",
   "execution_count": 1,
   "id": "393487fd",
   "metadata": {},
   "outputs": [],
   "source": [
    "import numpy as np\n",
    "import pandas as pd\n",
    "import matplotlib.pyplot as plt\n",
    "%matplotlib inline"
   ]
  },
  {
   "cell_type": "markdown",
   "id": "47fb7a9b",
   "metadata": {},
   "source": [
    "## Linear Regression"
   ]
  },
  {
   "cell_type": "code",
   "execution_count": 2,
   "id": "79cc31c6",
   "metadata": {},
   "outputs": [],
   "source": [
    "class LinearRegression:\n",
    "    def __init__(self, X, y):\n",
    "        r,c = X.shape\n",
    "        inital_ones = np.ones([r,1]) #bias term\n",
    "        self.X = np.concatenate((inital_ones,X),axis=1)\n",
    "        self.y = y\n",
    "        self.theta = np.zeros(self.X.shape[1]) # +1 for the bias term\n",
    "    \n",
    "    def predictions(self):\n",
    "        return np.matmul(self.X,self.theta)\n",
    "        \n",
    "    def cost_function(self):\n",
    "        return 0.5 * ((self.predictions()-self.y)**2).sum()\n",
    "    \n",
    "    def cost_derivative(self):\n",
    "        return np.matmul(self.X.T, (self.predictions()- self.y))\n",
    "     \n",
    "    def gradient_descent_step(self,learning_rate):\n",
    "        self.theta = self.theta  - (learning_rate * self.cost_derivative())\n",
    "    \n",
    "    def fit_by_gradient_descent(self,learning_rate,epochs):\n",
    "        for i in range(epochs):\n",
    "            self.gradient_descent_step(learning_rate)\n",
    "            \n",
    "    def fit_by_normal_equation(self):\n",
    "        self.theta = np.matmul(np.matmul(np.linalg.inv(np.matmul(self.X.T,self.X)),self.X.T),self.y)"
   ]
  },
  {
   "cell_type": "markdown",
   "id": "837c4926",
   "metadata": {},
   "source": [
    "### Test on simple dataset"
   ]
  },
  {
   "cell_type": "code",
   "execution_count": 3,
   "id": "51c8f7f8",
   "metadata": {},
   "outputs": [
    {
     "data": {
      "text/plain": [
       "[<matplotlib.lines.Line2D at 0x7fbbeb8614c0>]"
      ]
     },
     "execution_count": 3,
     "metadata": {},
     "output_type": "execute_result"
    },
    {
     "data": {
      "image/png": "[encoded data removed]",
      "text/plain": [
       "<Figure size 432x288 with 1 Axes>"
      ]
     },
     "metadata": {
      "needs_background": "light"
     },
     "output_type": "display_data"
    }
   ],
   "source": [
    "X = np.array([[1],[2],[3],[4],[5]])\n",
    "y = np.array([0,1,2,3,4])\n",
    "plt.plot(X,y)"
   ]
  },
  {
   "cell_type": "code",
   "execution_count": 4,
   "id": "5f6235dd",
   "metadata": {},
   "outputs": [],
   "source": [
    "linear = LinearRegression(X,y)"
   ]
  },
  {
   "cell_type": "code",
   "execution_count": 5,
   "id": "2624b444",
   "metadata": {},
   "outputs": [
    {
     "data": {
      "text/plain": [
       "15.0"
      ]
     },
     "execution_count": 5,
     "metadata": {},
     "output_type": "execute_result"
    }
   ],
   "source": [
    "linear.cost_function()"
   ]
  },
  {
   "cell_type": "code",
   "execution_count": 6,
   "id": "fb527548",
   "metadata": {},
   "outputs": [
    {
     "data": {
      "text/plain": [
       "array([-10., -40.])"
      ]
     },
     "execution_count": 6,
     "metadata": {},
     "output_type": "execute_result"
    }
   ],
   "source": [
    "linear.cost_derivative()"
   ]
  },
  {
   "cell_type": "code",
   "execution_count": 7,
   "id": "4b48d589",
   "metadata": {},
   "outputs": [],
   "source": [
    "linear.fit_by_gradient_descent(0.01,1000)"
   ]
  },
  {
   "cell_type": "code",
   "execution_count": 8,
   "id": "49bf5441",
   "metadata": {},
   "outputs": [
    {
     "data": {
      "text/plain": [
       "array([-0.99975585,  0.99993238])"
      ]
     },
     "execution_count": 8,
     "metadata": {},
     "output_type": "execute_result"
    }
   ],
   "source": [
    "linear.theta"
   ]
  },
  {
   "cell_type": "code",
   "execution_count": 9,
   "id": "17922738",
   "metadata": {},
   "outputs": [],
   "source": [
    "linear = LinearRegression(X,y)\n",
    "linear.fit_by_normal_equation()"
   ]
  },
  {
   "cell_type": "code",
   "execution_count": 10,
   "id": "8eb460a0",
   "metadata": {},
   "outputs": [
    {
     "data": {
      "text/plain": [
       "array([-1.,  1.])"
      ]
     },
     "execution_count": 10,
     "metadata": {},
     "output_type": "execute_result"
    }
   ],
   "source": [
    "linear.theta"
   ]
  },
  {
   "cell_type": "code",
   "execution_count": null,
   "id": "83cdb3f8",
   "metadata": {},
   "outputs": [],
   "source": []
  }
 ],
 "metadata": {
  "kernelspec": {
   "display_name": "Python 3",
   "language": "python",
   "name": "python3"
  },
  "language_info": {
   "codemirror_mode": {
    "name": "ipython",
    "version": 3
   },
   "file_extension": ".py",
   "mimetype": "text/x-python",
   "name": "python",
   "nbconvert_exporter": "python",
   "pygments_lexer": "ipython3",
   "version": "3.9.6"
  }
 },
 "nbformat": 4,
 "nbformat_minor": 5
}
